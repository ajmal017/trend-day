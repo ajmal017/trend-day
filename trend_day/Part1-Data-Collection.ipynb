{
 "cells": [
  {
   "cell_type": "markdown",
   "metadata": {},
   "source": [
    "<img alt=\"QuantRocket logo\" src=\"https://www.quantrocket.com/assets/img/notebook-header-logo.png\">\n",
    "\n",
    "<a href=\"https://www.quantrocket.com/disclaimer/\">Disclaimer</a>"
   ]
  },
  {
   "cell_type": "markdown",
   "metadata": {},
   "source": [
    "# Data Collection\n",
    "\n",
    "The data collection process consists of collecting ARCA ETF listings, creating a universe of leveraged ETFs, then collecting 15 minute bars for the leveraged ETFs."
   ]
  },
  {
   "cell_type": "markdown",
   "metadata": {},
   "source": [
    "First, start IB Gateway:"
   ]
  },
  {
   "cell_type": "code",
   "execution_count": 1,
   "metadata": {},
   "outputs": [
    {
     "data": {
      "text/plain": [
       "{'ibg1': {'status': 'running'}}"
      ]
     },
     "execution_count": 1,
     "metadata": {},
     "output_type": "execute_result"
    }
   ],
   "source": [
    "from quantrocket.launchpad import start_gateways\n",
    "start_gateways(wait=True)"
   ]
  },
  {
   "cell_type": "markdown",
   "metadata": {},
   "source": [
    "## Collect ETF listings\n",
    "\n",
    "Then collect the listings:"
   ]
  },
  {
   "cell_type": "code",
   "execution_count": 2,
   "metadata": {},
   "outputs": [
    {
     "data": {
      "text/plain": [
       "{'status': 'the listing details will be collected asynchronously'}"
      ]
     },
     "execution_count": 2,
     "metadata": {},
     "output_type": "execute_result"
    }
   ],
   "source": [
    "from quantrocket.master import collect_listings\n",
    "collect_listings(exchanges=\"ARCA\", sec_types=\"ETF\")"
   ]
  },
  {
   "cell_type": "markdown",
   "metadata": {},
   "source": [
    "Monitor flightlog for a completion message:\n",
    "\n",
    "```\n",
    "quantrocket.master: INFO Collecting ARCA ETF listings from IB website\n",
    "quantrocket.master: INFO Requesting details for 2246 ARCA listings found on IB website\n",
    "quantrocket.master: INFO Saved 1576 ARCA listings to securities master database\n",
    "```"
   ]
  },
  {
   "cell_type": "markdown",
   "metadata": {},
   "source": [
    "## Define universe of leveraged ETFs \n",
    "\n",
    "Next we download a CSV of several leveraged ETFs:"
   ]
  },
  {
   "cell_type": "code",
   "execution_count": 3,
   "metadata": {},
   "outputs": [],
   "source": [
    "from quantrocket.master import download_master_file\n",
    "download_master_file(\n",
    "    \"leveraged_etfs.csv\",\n",
    "    exchanges=\"ARCA\",\n",
    "    sec_types=\"ETF\", \n",
    "    symbols=[\n",
    "        \"SPXL\", # DIREXION DLY S&P 500 BULL 3X\n",
    "        \"TNA\",  # DIREXION DLY SM CAP BULL 3X\n",
    "        \"ERX\",  # DIREXION DLY ENERGY BULL 3X\n",
    "        \"TMF\",  # DRX DLY 20+ YR TREAS BULL 3X\n",
    "        \"UPRO\", # PROSHARES ULTRAPRO S&P 500\n",
    "        \"DRN\",  # DRX DLY REAL ESTATE BULL 3X\n",
    "        \"YINN\", # DRX DLY FTSE CHINA BULL 3X\n",
    "        \"UDOW\", # PROSHARES ULTRAPRO DOW30\n",
    "        \"URTY\", # PROSHARES ULTRAPRO RUSS2000\n",
    "        \"FAS\",  # DIREXION DAILY FIN BULL 3X\n",
    "        \"EDC\",  # DIREXION DLY EMG MKT BULL 3X\n",
    "        \"RUSL\", # DIREXION DLY RUSSIA BULL 3X\n",
    "        \"JNUG\", # DIREXION DLY JR GOLD BULL 3X\n",
    "        \"NUGT\", # DRX DLY GOLD MINERS BULL 3X\n",
    "    ])"
   ]
  },
  {
   "cell_type": "markdown",
   "metadata": {},
   "source": [
    "Then upload the CSV to create the \"leveraged-etf\" universe:"
   ]
  },
  {
   "cell_type": "code",
   "execution_count": 4,
   "metadata": {},
   "outputs": [
    {
     "data": {
      "text/plain": [
       "{'code': 'leveraged-etf',\n",
       " 'provided': 14,\n",
       " 'inserted': 14,\n",
       " 'total_after_insert': 14}"
      ]
     },
     "execution_count": 4,
     "metadata": {},
     "output_type": "execute_result"
    }
   ],
   "source": [
    "from quantrocket.master import create_universe\n",
    "create_universe(\"leveraged-etf\", infilepath_or_buffer=\"leveraged_etfs.csv\", replace=True)"
   ]
  },
  {
   "cell_type": "markdown",
   "metadata": {},
   "source": [
    "## Collect historical data\n",
    "\n",
    "Next, we create a database for collecting 15-min bars.\n",
    "\n",
    "> The `shard` parameter is required for intraday databases and determines how to split up large databases into smaller pieces for better performance. Since our universe contains a relatively small number of securities, we can turn this feature off. See the usage guide to learn more."
   ]
  },
  {
   "cell_type": "code",
   "execution_count": 5,
   "metadata": {},
   "outputs": [
    {
     "data": {
      "text/plain": [
       "{'status': 'successfully created quantrocket.history.leveraged-etf-15min.sqlite'}"
      ]
     },
     "execution_count": 5,
     "metadata": {},
     "output_type": "execute_result"
    }
   ],
   "source": [
    "from quantrocket.history import create_db\n",
    "create_db(\"leveraged-etf-15min\", universes=\"leveraged-etf\", bar_size=\"15 mins\", shard=\"off\")"
   ]
  },
  {
   "cell_type": "markdown",
   "metadata": {},
   "source": [
    "Then collect the data:"
   ]
  },
  {
   "cell_type": "code",
   "execution_count": 6,
   "metadata": {},
   "outputs": [
    {
     "data": {
      "text/plain": [
       "{'status': 'the historical data will be collected asynchronously'}"
      ]
     },
     "execution_count": 6,
     "metadata": {},
     "output_type": "execute_result"
    }
   ],
   "source": [
    "from quantrocket.history import collect_history\n",
    "collect_history(\"leveraged-etf-15min\")"
   ]
  },
  {
   "cell_type": "markdown",
   "metadata": {},
   "source": [
    "Monitor flightlog for completion:\n",
    "\n",
    "```\n",
    "quantrocket.history: INFO [leveraged-etf-15min] Collecting history from IB for 14 securities in leveraged-etf-15min\n",
    "quantrocket.history: INFO [leveraged-etf-15min] Saved 842150 total records for 14 total securities to quantrocket.history.leveraged-etf-15min.sqlite\n",
    "```"
   ]
  },
  {
   "cell_type": "markdown",
   "metadata": {},
   "source": [
    "***\n",
    "\n",
    "## *Next Up*\n",
    "\n",
    "Part 2: [Moonshot Backtest](Part2-Moonshot-Backtest.ipynb)"
   ]
  }
 ],
 "metadata": {
  "kernelspec": {
   "display_name": "Python 3",
   "language": "python",
   "name": "python3"
  },
  "language_info": {
   "codemirror_mode": {
    "name": "ipython",
    "version": 3
   },
   "file_extension": ".py",
   "mimetype": "text/x-python",
   "name": "python",
   "nbconvert_exporter": "python",
   "pygments_lexer": "ipython3",
   "version": "3.6.6"
  }
 },
 "nbformat": 4,
 "nbformat_minor": 2
}
